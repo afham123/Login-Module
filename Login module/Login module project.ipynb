{
 "cells": [
  {
   "cell_type": "code",
   "execution_count": 5,
   "metadata": {},
   "outputs": [
    {
     "name": "stderr",
     "output_type": "stream",
     "text": [
      "Exception ignored in: <function PhotoImage.__del__ at 0x03FA00C0>\n",
      "Traceback (most recent call last):\n",
      "  File \"C:\\Users\\Afhamfardeen98\\anaconda3\\lib\\site-packages\\PIL\\ImageTk.py\", line 118, in __del__\n",
      "    name = self.__photo.name\n",
      "AttributeError: 'PhotoImage' object has no attribute '_PhotoImage__photo'\n"
     ]
    }
   ],
   "source": [
    "from tkinter import*\n",
    "import ipywidgets as widgets\n",
    "from PIL import ImageTk\n",
    "from tkinter import messagebox\n",
    "\n",
    "d={}\n",
    "\n",
    "root=Tk()\n",
    "d[\"Afham\"]=\"1234\"\n",
    "class Login:\n",
    "    def __init__(self,root):\n",
    "        self.root=root\n",
    "        self.root.title(\"Login System\")\n",
    "        self.root.geometry(\"1093x652+70+65\")\n",
    "        self.root.resizable(False,False)\n",
    "        \n",
    "        # backgroung image\n",
    "        self.bg=ImageTk.PhotoImage(file=\"image/image.jpg\")\n",
    "        self.bg_image=Label(image=self.bg).place(x=0,y=0,relwidth=1,relheight=1)\n",
    "        \n",
    "        #login frame\n",
    "        login_frame=Frame(self.root,bg=\"white\")\n",
    "        login_frame.place(x=80,y=230,height=350,width=300)\n",
    "        \n",
    "        Label(login_frame,text=\"Login Here\",font=(\"Impact\",35,\"bold\"),fg=\"#d77337\",bg=\"white\").place(x=40,y=20)\n",
    "        \n",
    "        Label(login_frame,text=\"Accountant Employee Login Area\",font=(\"Goudy old style\",13,\"bold\"),fg=\"#d25d17\",\n",
    "                   bg=\"white\").place(x=26,y=87)\n",
    "        Label(login_frame,text=\"User name\",font=(\"Goudy old style\",13,\"bold\"),fg=\"grey\",bg=\"white\").place(x=26,y=120)\n",
    "        self.txt_user=Entry(login_frame,font=(\"times new roman\",13),bg=\"lightgray\",width=24)\n",
    "        self.txt_user.place(x=26,y=145)\n",
    "    \n",
    "        Label(login_frame,text=\"Password\",font=(\"Goudy old style\",13,\"bold\"),fg=\"grey\",bg=\"white\").place(x=26,y=175)\n",
    "        self.txt_user_password=Entry(login_frame,font=(\"times new roman\",13),bg=\"lightgray\",width=24)\n",
    "        self.txt_user_password.place(x=26,y=200)\n",
    "        \n",
    "        Button(login_frame,text=\"Forget Password?\",bg=\"white\",fg=\"#d77337\",bd=0,cursor=\"hand2\",font=(\"times new roman\",12,\"bold\")).place(x=26,y=225)\n",
    "        Button(login_frame,text=\"Login\",bg=\"#d77337\",fg=\"white\",cursor=\"hand2\",font=(\"times new roman\",18),command=self.login_func).place(x=26,y=270,width=180,height=40)\n",
    "        \n",
    "            \n",
    "    \n",
    "    def login_func(self):\n",
    "        global d\n",
    "        if self.txt_user.get() == \"\" or self.txt_user_password.get() == \"\":\n",
    "            messagebox.showerror(\"Error\",\"All fields are recquired\")\n",
    "        else:\n",
    "            try:\n",
    "                if d[self.txt_user.get()] == self.txt_user_password.get():\n",
    "                    messagebox.showinfo(\"Info box\",\"Login Successsfull\")\n",
    "                else:\n",
    "                    messagebox.showerror(\"Error\",\"Incorrect Password\")\n",
    "            except:\n",
    "                messagebox.showerror(\"Error\",\"Incorrect User Id\")\n",
    "        \n",
    "obj=Login(root)\n",
    "root.mainloop()"
   ]
  },
  {
   "cell_type": "code",
   "execution_count": null,
   "metadata": {},
   "outputs": [],
   "source": []
  }
 ],
 "metadata": {
  "kernelspec": {
   "display_name": "Python 3",
   "language": "python",
   "name": "python3"
  },
  "language_info": {
   "codemirror_mode": {
    "name": "ipython",
    "version": 3
   },
   "file_extension": ".py",
   "mimetype": "text/x-python",
   "name": "python",
   "nbconvert_exporter": "python",
   "pygments_lexer": "ipython3",
   "version": "3.7.6"
  }
 },
 "nbformat": 4,
 "nbformat_minor": 4
}
